{
  "nbformat": 4,
  "nbformat_minor": 0,
  "metadata": {
    "colab": {
      "name": "Demo2ML.ipynb",
      "provenance": [],
      "toc_visible": true,
      "mount_file_id": "1n1GsiaQHjknXmkNQ9PKULVy6oQ-4RG5L",
      "authorship_tag": "ABX9TyOX8JALwgWI12I7XcewwqXW",
      "include_colab_link": true
    },
    "kernelspec": {
      "name": "python3",
      "display_name": "Python 3"
    },
    "accelerator": "GPU"
  },
  "cells": [
    {
      "cell_type": "markdown",
      "metadata": {
        "id": "view-in-github",
        "colab_type": "text"
      },
      "source": [
        "<a href=\"https://colab.research.google.com/github/tarinishukla/PointCloudWorkshop-Oct2019/blob/master/Demo2ML.ipynb\" target=\"_parent\"><img src=\"https://colab.research.google.com/assets/colab-badge.svg\" alt=\"Open In Colab\"/></a>"
      ]
    },
    {
      "cell_type": "code",
      "metadata": {
        "colab": {
          "base_uri": "https://localhost:8080/"
        },
        "id": "osQlnqodcUtl",
        "outputId": "0f3d3896-d805-467c-958a-76fcbf2d9b8e"
      },
      "source": [
        "!pip install geopandas\r\n"
      ],
      "execution_count": 1,
      "outputs": [
        {
          "output_type": "stream",
          "text": [
            "Collecting geopandas\n",
            "\u001b[?25l  Downloading https://files.pythonhosted.org/packages/2a/9f/e8a440a993e024c0d3d4e5c7d3346367c50c9a1a3d735caf5ee3bde0aab1/geopandas-0.8.2-py2.py3-none-any.whl (962kB)\n",
            "\r\u001b[K     |▍                               | 10kB 25.8MB/s eta 0:00:01\r\u001b[K     |▊                               | 20kB 11.5MB/s eta 0:00:01\r\u001b[K     |█                               | 30kB 9.0MB/s eta 0:00:01\r\u001b[K     |█▍                              | 40kB 8.4MB/s eta 0:00:01\r\u001b[K     |█▊                              | 51kB 4.9MB/s eta 0:00:01\r\u001b[K     |██                              | 61kB 5.4MB/s eta 0:00:01\r\u001b[K     |██▍                             | 71kB 5.9MB/s eta 0:00:01\r\u001b[K     |██▊                             | 81kB 6.2MB/s eta 0:00:01\r\u001b[K     |███                             | 92kB 6.5MB/s eta 0:00:01\r\u001b[K     |███▍                            | 102kB 6.8MB/s eta 0:00:01\r\u001b[K     |███▊                            | 112kB 6.8MB/s eta 0:00:01\r\u001b[K     |████                            | 122kB 6.8MB/s eta 0:00:01\r\u001b[K     |████▍                           | 133kB 6.8MB/s eta 0:00:01\r\u001b[K     |████▊                           | 143kB 6.8MB/s eta 0:00:01\r\u001b[K     |█████                           | 153kB 6.8MB/s eta 0:00:01\r\u001b[K     |█████▌                          | 163kB 6.8MB/s eta 0:00:01\r\u001b[K     |█████▉                          | 174kB 6.8MB/s eta 0:00:01\r\u001b[K     |██████▏                         | 184kB 6.8MB/s eta 0:00:01\r\u001b[K     |██████▌                         | 194kB 6.8MB/s eta 0:00:01\r\u001b[K     |██████▉                         | 204kB 6.8MB/s eta 0:00:01\r\u001b[K     |███████▏                        | 215kB 6.8MB/s eta 0:00:01\r\u001b[K     |███████▌                        | 225kB 6.8MB/s eta 0:00:01\r\u001b[K     |███████▉                        | 235kB 6.8MB/s eta 0:00:01\r\u001b[K     |████████▏                       | 245kB 6.8MB/s eta 0:00:01\r\u001b[K     |████████▌                       | 256kB 6.8MB/s eta 0:00:01\r\u001b[K     |████████▉                       | 266kB 6.8MB/s eta 0:00:01\r\u001b[K     |█████████▏                      | 276kB 6.8MB/s eta 0:00:01\r\u001b[K     |█████████▌                      | 286kB 6.8MB/s eta 0:00:01\r\u001b[K     |█████████▉                      | 296kB 6.8MB/s eta 0:00:01\r\u001b[K     |██████████▏                     | 307kB 6.8MB/s eta 0:00:01\r\u001b[K     |██████████▌                     | 317kB 6.8MB/s eta 0:00:01\r\u001b[K     |███████████                     | 327kB 6.8MB/s eta 0:00:01\r\u001b[K     |███████████▎                    | 337kB 6.8MB/s eta 0:00:01\r\u001b[K     |███████████▋                    | 348kB 6.8MB/s eta 0:00:01\r\u001b[K     |████████████                    | 358kB 6.8MB/s eta 0:00:01\r\u001b[K     |████████████▎                   | 368kB 6.8MB/s eta 0:00:01\r\u001b[K     |████████████▋                   | 378kB 6.8MB/s eta 0:00:01\r\u001b[K     |█████████████                   | 389kB 6.8MB/s eta 0:00:01\r\u001b[K     |█████████████▎                  | 399kB 6.8MB/s eta 0:00:01\r\u001b[K     |█████████████▋                  | 409kB 6.8MB/s eta 0:00:01\r\u001b[K     |██████████████                  | 419kB 6.8MB/s eta 0:00:01\r\u001b[K     |██████████████▎                 | 430kB 6.8MB/s eta 0:00:01\r\u001b[K     |██████████████▋                 | 440kB 6.8MB/s eta 0:00:01\r\u001b[K     |███████████████                 | 450kB 6.8MB/s eta 0:00:01\r\u001b[K     |███████████████▎                | 460kB 6.8MB/s eta 0:00:01\r\u001b[K     |███████████████▋                | 471kB 6.8MB/s eta 0:00:01\r\u001b[K     |████████████████                | 481kB 6.8MB/s eta 0:00:01\r\u001b[K     |████████████████▍               | 491kB 6.8MB/s eta 0:00:01\r\u001b[K     |████████████████▊               | 501kB 6.8MB/s eta 0:00:01\r\u001b[K     |█████████████████               | 512kB 6.8MB/s eta 0:00:01\r\u001b[K     |█████████████████▍              | 522kB 6.8MB/s eta 0:00:01\r\u001b[K     |█████████████████▊              | 532kB 6.8MB/s eta 0:00:01\r\u001b[K     |██████████████████              | 542kB 6.8MB/s eta 0:00:01\r\u001b[K     |██████████████████▍             | 552kB 6.8MB/s eta 0:00:01\r\u001b[K     |██████████████████▊             | 563kB 6.8MB/s eta 0:00:01\r\u001b[K     |███████████████████             | 573kB 6.8MB/s eta 0:00:01\r\u001b[K     |███████████████████▍            | 583kB 6.8MB/s eta 0:00:01\r\u001b[K     |███████████████████▊            | 593kB 6.8MB/s eta 0:00:01\r\u001b[K     |████████████████████            | 604kB 6.8MB/s eta 0:00:01\r\u001b[K     |████████████████████▍           | 614kB 6.8MB/s eta 0:00:01\r\u001b[K     |████████████████████▊           | 624kB 6.8MB/s eta 0:00:01\r\u001b[K     |█████████████████████           | 634kB 6.8MB/s eta 0:00:01\r\u001b[K     |█████████████████████▍          | 645kB 6.8MB/s eta 0:00:01\r\u001b[K     |█████████████████████▉          | 655kB 6.8MB/s eta 0:00:01\r\u001b[K     |██████████████████████▏         | 665kB 6.8MB/s eta 0:00:01\r\u001b[K     |██████████████████████▌         | 675kB 6.8MB/s eta 0:00:01\r\u001b[K     |██████████████████████▉         | 686kB 6.8MB/s eta 0:00:01\r\u001b[K     |███████████████████████▏        | 696kB 6.8MB/s eta 0:00:01\r\u001b[K     |███████████████████████▌        | 706kB 6.8MB/s eta 0:00:01\r\u001b[K     |███████████████████████▉        | 716kB 6.8MB/s eta 0:00:01\r\u001b[K     |████████████████████████▏       | 727kB 6.8MB/s eta 0:00:01\r\u001b[K     |████████████████████████▌       | 737kB 6.8MB/s eta 0:00:01\r\u001b[K     |████████████████████████▉       | 747kB 6.8MB/s eta 0:00:01\r\u001b[K     |█████████████████████████▏      | 757kB 6.8MB/s eta 0:00:01\r\u001b[K     |█████████████████████████▌      | 768kB 6.8MB/s eta 0:00:01\r\u001b[K     |█████████████████████████▉      | 778kB 6.8MB/s eta 0:00:01\r\u001b[K     |██████████████████████████▏     | 788kB 6.8MB/s eta 0:00:01\r\u001b[K     |██████████████████████████▌     | 798kB 6.8MB/s eta 0:00:01\r\u001b[K     |██████████████████████████▉     | 808kB 6.8MB/s eta 0:00:01\r\u001b[K     |███████████████████████████▎    | 819kB 6.8MB/s eta 0:00:01\r\u001b[K     |███████████████████████████▋    | 829kB 6.8MB/s eta 0:00:01\r\u001b[K     |████████████████████████████    | 839kB 6.8MB/s eta 0:00:01\r\u001b[K     |████████████████████████████▎   | 849kB 6.8MB/s eta 0:00:01\r\u001b[K     |████████████████████████████▋   | 860kB 6.8MB/s eta 0:00:01\r\u001b[K     |█████████████████████████████   | 870kB 6.8MB/s eta 0:00:01\r\u001b[K     |█████████████████████████████▎  | 880kB 6.8MB/s eta 0:00:01\r\u001b[K     |█████████████████████████████▋  | 890kB 6.8MB/s eta 0:00:01\r\u001b[K     |██████████████████████████████  | 901kB 6.8MB/s eta 0:00:01\r\u001b[K     |██████████████████████████████▎ | 911kB 6.8MB/s eta 0:00:01\r\u001b[K     |██████████████████████████████▋ | 921kB 6.8MB/s eta 0:00:01\r\u001b[K     |███████████████████████████████ | 931kB 6.8MB/s eta 0:00:01\r\u001b[K     |███████████████████████████████▎| 942kB 6.8MB/s eta 0:00:01\r\u001b[K     |███████████████████████████████▋| 952kB 6.8MB/s eta 0:00:01\r\u001b[K     |████████████████████████████████| 962kB 6.8MB/s eta 0:00:01\r\u001b[K     |████████████████████████████████| 972kB 6.8MB/s \n",
            "\u001b[?25hRequirement already satisfied: pandas>=0.23.0 in /usr/local/lib/python3.6/dist-packages (from geopandas) (1.1.5)\n",
            "Collecting fiona\n",
            "\u001b[?25l  Downloading https://files.pythonhosted.org/packages/37/94/4910fd55246c1d963727b03885ead6ef1cd3748a465f7b0239ab25dfc9a3/Fiona-1.8.18-cp36-cp36m-manylinux1_x86_64.whl (14.8MB)\n",
            "\u001b[K     |████████████████████████████████| 14.8MB 212kB/s \n",
            "\u001b[?25hCollecting pyproj>=2.2.0\n",
            "\u001b[?25l  Downloading https://files.pythonhosted.org/packages/e4/ab/280e80a67cfc109d15428c0ec56391fc03a65857b7727cf4e6e6f99a4204/pyproj-3.0.0.post1-cp36-cp36m-manylinux2010_x86_64.whl (6.4MB)\n",
            "\u001b[K     |████████████████████████████████| 6.5MB 58.1MB/s \n",
            "\u001b[?25hRequirement already satisfied: shapely in /usr/local/lib/python3.6/dist-packages (from geopandas) (1.7.1)\n",
            "Requirement already satisfied: pytz>=2017.2 in /usr/local/lib/python3.6/dist-packages (from pandas>=0.23.0->geopandas) (2018.9)\n",
            "Requirement already satisfied: numpy>=1.15.4 in /usr/local/lib/python3.6/dist-packages (from pandas>=0.23.0->geopandas) (1.19.5)\n",
            "Requirement already satisfied: python-dateutil>=2.7.3 in /usr/local/lib/python3.6/dist-packages (from pandas>=0.23.0->geopandas) (2.8.1)\n",
            "Requirement already satisfied: attrs>=17 in /usr/local/lib/python3.6/dist-packages (from fiona->geopandas) (20.3.0)\n",
            "Requirement already satisfied: six>=1.7 in /usr/local/lib/python3.6/dist-packages (from fiona->geopandas) (1.15.0)\n",
            "Collecting click-plugins>=1.0\n",
            "  Downloading https://files.pythonhosted.org/packages/e9/da/824b92d9942f4e472702488857914bdd50f73021efea15b4cad9aca8ecef/click_plugins-1.1.1-py2.py3-none-any.whl\n",
            "Collecting munch\n",
            "  Downloading https://files.pythonhosted.org/packages/cc/ab/85d8da5c9a45e072301beb37ad7f833cd344e04c817d97e0cc75681d248f/munch-2.5.0-py2.py3-none-any.whl\n",
            "Requirement already satisfied: click<8,>=4.0 in /usr/local/lib/python3.6/dist-packages (from fiona->geopandas) (7.1.2)\n",
            "Requirement already satisfied: certifi in /usr/local/lib/python3.6/dist-packages (from fiona->geopandas) (2020.12.5)\n",
            "Collecting cligj>=0.5\n",
            "  Downloading https://files.pythonhosted.org/packages/42/1e/947eadf10d6804bf276eb8a038bd5307996dceaaa41cfd21b7a15ec62f5d/cligj-0.7.1-py3-none-any.whl\n",
            "Installing collected packages: click-plugins, munch, cligj, fiona, pyproj, geopandas\n",
            "Successfully installed click-plugins-1.1.1 cligj-0.7.1 fiona-1.8.18 geopandas-0.8.2 munch-2.5.0 pyproj-3.0.0.post1\n"
          ],
          "name": "stdout"
        }
      ]
    },
    {
      "cell_type": "code",
      "metadata": {
        "id": "PMXZkYvfdiPo"
      },
      "source": [
        "import geopandas as gpd"
      ],
      "execution_count": 6,
      "outputs": []
    },
    {
      "cell_type": "code",
      "metadata": {
        "colab": {
          "base_uri": "https://localhost:8080/",
          "height": 245
        },
        "id": "ZL1ct7Rvdmt6",
        "outputId": "9ab2c2e9-7b65-4f91-a400-e73701ec84f7"
      },
      "source": [
        "coastline_attr_gpd=gpd.read_file(\"/content/drive/MyDrive/Spring_2021/GeoAI/Data/Data/coastline_attr_seagrass.shp\")\r\n",
        "coastline_attr_gpd.plot()\r\n"
      ],
      "execution_count": 8,
      "outputs": [
        {
          "output_type": "execute_result",
          "data": {
            "text/plain": [
              "<matplotlib.axes._subplots.AxesSubplot at 0x7f1c14bcc748>"
            ]
          },
          "metadata": {
            "tags": []
          },
          "execution_count": 8
        },
        {
          "output_type": "display_data",
          "data": {
            "image/png": "[encoded data removed]",
            "text/plain": [
              "<Figure size 432x288 with 1 Axes>"
            ]
          },
          "metadata": {
            "tags": [],
            "needs_background": "light"
          }
        }
      ]
    },
    {
      "cell_type": "code",
      "metadata": {
        "colab": {
          "base_uri": "https://localhost:8080/",
          "height": 202
        },
        "id": "V7eUtkDeeTgK",
        "outputId": "ae2bc506-de9e-40f0-abbd-1d321cbb2029"
      },
      "source": [
        "coastline_attr_gpd.head()\r\n"
      ],
      "execution_count": 9,
      "outputs": [
        {
          "output_type": "execute_result",
          "data": {
            "text/html": [
              "<div>\n",
              "<style scoped>\n",
              "    .dataframe tbody tr th:only-of-type {\n",
              "        vertical-align: middle;\n",
              "    }\n",
              "\n",
              "    .dataframe tbody tr th {\n",
              "        vertical-align: top;\n",
              "    }\n",
              "\n",
              "    .dataframe thead th {\n",
              "        text-align: right;\n",
              "    }\n",
              "</style>\n",
              "<table border=\"1\" class=\"dataframe\">\n",
              "  <thead>\n",
              "    <tr style=\"text-align: right;\">\n",
              "      <th></th>\n",
              "      <th>CID</th>\n",
              "      <th>salinity</th>\n",
              "      <th>srtm30</th>\n",
              "      <th>silicate</th>\n",
              "      <th>phosphate</th>\n",
              "      <th>nitrate</th>\n",
              "      <th>disso2</th>\n",
              "      <th>temp</th>\n",
              "      <th>sea_grass</th>\n",
              "      <th>geometry</th>\n",
              "    </tr>\n",
              "  </thead>\n",
              "  <tbody>\n",
              "    <tr>\n",
              "      <th>0</th>\n",
              "      <td>1</td>\n",
              "      <td>36.1645</td>\n",
              "      <td>-13.54730</td>\n",
              "      <td>2.14787</td>\n",
              "      <td>0.085490</td>\n",
              "      <td>0.672583</td>\n",
              "      <td>4.73538</td>\n",
              "      <td>26.0314</td>\n",
              "      <td>1</td>\n",
              "      <td>POINT (-82.22100 24.50021)</td>\n",
              "    </tr>\n",
              "    <tr>\n",
              "      <th>1</th>\n",
              "      <td>1</td>\n",
              "      <td>35.8820</td>\n",
              "      <td>-5.29631</td>\n",
              "      <td>3.39048</td>\n",
              "      <td>0.081309</td>\n",
              "      <td>0.589654</td>\n",
              "      <td>4.82170</td>\n",
              "      <td>26.2659</td>\n",
              "      <td>1</td>\n",
              "      <td>POINT (-81.16694 25.14926)</td>\n",
              "    </tr>\n",
              "    <tr>\n",
              "      <th>2</th>\n",
              "      <td>1</td>\n",
              "      <td>28.2685</td>\n",
              "      <td>5.36795</td>\n",
              "      <td>4.50515</td>\n",
              "      <td>0.220880</td>\n",
              "      <td>1.225100</td>\n",
              "      <td>4.74903</td>\n",
              "      <td>23.2961</td>\n",
              "      <td>0</td>\n",
              "      <td>POINT (-90.58674 29.24938)</td>\n",
              "    </tr>\n",
              "    <tr>\n",
              "      <th>3</th>\n",
              "      <td>1</td>\n",
              "      <td>27.8134</td>\n",
              "      <td>-11.50460</td>\n",
              "      <td>2.30621</td>\n",
              "      <td>0.353542</td>\n",
              "      <td>2.226290</td>\n",
              "      <td>5.55894</td>\n",
              "      <td>14.3673</td>\n",
              "      <td>1</td>\n",
              "      <td>POINT (-76.05466 36.96940)</td>\n",
              "    </tr>\n",
              "    <tr>\n",
              "      <th>4</th>\n",
              "      <td>1</td>\n",
              "      <td>16.0193</td>\n",
              "      <td>-4.73809</td>\n",
              "      <td>2.47356</td>\n",
              "      <td>0.409711</td>\n",
              "      <td>2.607220</td>\n",
              "      <td>5.76708</td>\n",
              "      <td>13.9874</td>\n",
              "      <td>1</td>\n",
              "      <td>POINT (-76.38891 39.27398)</td>\n",
              "    </tr>\n",
              "  </tbody>\n",
              "</table>\n",
              "</div>"
            ],
            "text/plain": [
              "   CID  salinity    srtm30  ...     temp  sea_grass                    geometry\n",
              "0    1   36.1645 -13.54730  ...  26.0314          1  POINT (-82.22100 24.50021)\n",
              "1    1   35.8820  -5.29631  ...  26.2659          1  POINT (-81.16694 25.14926)\n",
              "2    1   28.2685   5.36795  ...  23.2961          0  POINT (-90.58674 29.24938)\n",
              "3    1   27.8134 -11.50460  ...  14.3673          1  POINT (-76.05466 36.96940)\n",
              "4    1   16.0193  -4.73809  ...  13.9874          1  POINT (-76.38891 39.27398)\n",
              "\n",
              "[5 rows x 10 columns]"
            ]
          },
          "metadata": {
            "tags": []
          },
          "execution_count": 9
        }
      ]
    },
    {
      "cell_type": "code",
      "metadata": {
        "colab": {
          "base_uri": "https://localhost:8080/",
          "height": 375
        },
        "id": "AlYW5gmxeZy_",
        "outputId": "13aa8a16-2c09-4cf4-9f77-0064e6830723"
      },
      "source": [
        "coastline_attr_gpd[\"x\"]=coastline_attr_gpd.geometry.x\r\n",
        "coastline_attr_gpd[\"y\"]=coastline_attr_gpd.geometry.y\r\n",
        "coastline_attr_gpd.head()"
      ],
      "execution_count": 10,
      "outputs": [
        {
          "output_type": "execute_result",
          "data": {
            "text/html": [
              "<div>\n",
              "<style scoped>\n",
              "    .dataframe tbody tr th:only-of-type {\n",
              "        vertical-align: middle;\n",
              "    }\n",
              "\n",
              "    .dataframe tbody tr th {\n",
              "        vertical-align: top;\n",
              "    }\n",
              "\n",
              "    .dataframe thead th {\n",
              "        text-align: right;\n",
              "    }\n",
              "</style>\n",
              "<table border=\"1\" class=\"dataframe\">\n",
              "  <thead>\n",
              "    <tr style=\"text-align: right;\">\n",
              "      <th></th>\n",
              "      <th>CID</th>\n",
              "      <th>salinity</th>\n",
              "      <th>srtm30</th>\n",
              "      <th>silicate</th>\n",
              "      <th>phosphate</th>\n",
              "      <th>nitrate</th>\n",
              "      <th>disso2</th>\n",
              "      <th>temp</th>\n",
              "      <th>sea_grass</th>\n",
              "      <th>geometry</th>\n",
              "      <th>x</th>\n",
              "      <th>y</th>\n",
              "    </tr>\n",
              "  </thead>\n",
              "  <tbody>\n",
              "    <tr>\n",
              "      <th>0</th>\n",
              "      <td>1</td>\n",
              "      <td>36.1645</td>\n",
              "      <td>-13.54730</td>\n",
              "      <td>2.14787</td>\n",
              "      <td>0.085490</td>\n",
              "      <td>0.672583</td>\n",
              "      <td>4.73538</td>\n",
              "      <td>26.0314</td>\n",
              "      <td>1</td>\n",
              "      <td>POINT (-82.22100 24.50021)</td>\n",
              "      <td>-82.221000</td>\n",
              "      <td>24.500212</td>\n",
              "    </tr>\n",
              "    <tr>\n",
              "      <th>1</th>\n",
              "      <td>1</td>\n",
              "      <td>35.8820</td>\n",
              "      <td>-5.29631</td>\n",
              "      <td>3.39048</td>\n",
              "      <td>0.081309</td>\n",
              "      <td>0.589654</td>\n",
              "      <td>4.82170</td>\n",
              "      <td>26.2659</td>\n",
              "      <td>1</td>\n",
              "      <td>POINT (-81.16694 25.14926)</td>\n",
              "      <td>-81.166938</td>\n",
              "      <td>25.149262</td>\n",
              "    </tr>\n",
              "    <tr>\n",
              "      <th>2</th>\n",
              "      <td>1</td>\n",
              "      <td>28.2685</td>\n",
              "      <td>5.36795</td>\n",
              "      <td>4.50515</td>\n",
              "      <td>0.220880</td>\n",
              "      <td>1.225100</td>\n",
              "      <td>4.74903</td>\n",
              "      <td>23.2961</td>\n",
              "      <td>0</td>\n",
              "      <td>POINT (-90.58674 29.24938)</td>\n",
              "      <td>-90.586741</td>\n",
              "      <td>29.249380</td>\n",
              "    </tr>\n",
              "    <tr>\n",
              "      <th>3</th>\n",
              "      <td>1</td>\n",
              "      <td>27.8134</td>\n",
              "      <td>-11.50460</td>\n",
              "      <td>2.30621</td>\n",
              "      <td>0.353542</td>\n",
              "      <td>2.226290</td>\n",
              "      <td>5.55894</td>\n",
              "      <td>14.3673</td>\n",
              "      <td>1</td>\n",
              "      <td>POINT (-76.05466 36.96940)</td>\n",
              "      <td>-76.054661</td>\n",
              "      <td>36.969399</td>\n",
              "    </tr>\n",
              "    <tr>\n",
              "      <th>4</th>\n",
              "      <td>1</td>\n",
              "      <td>16.0193</td>\n",
              "      <td>-4.73809</td>\n",
              "      <td>2.47356</td>\n",
              "      <td>0.409711</td>\n",
              "      <td>2.607220</td>\n",
              "      <td>5.76708</td>\n",
              "      <td>13.9874</td>\n",
              "      <td>1</td>\n",
              "      <td>POINT (-76.38891 39.27398)</td>\n",
              "      <td>-76.388908</td>\n",
              "      <td>39.273977</td>\n",
              "    </tr>\n",
              "  </tbody>\n",
              "</table>\n",
              "</div>"
            ],
            "text/plain": [
              "   CID  salinity    srtm30  ...                    geometry          x          y\n",
              "0    1   36.1645 -13.54730  ...  POINT (-82.22100 24.50021) -82.221000  24.500212\n",
              "1    1   35.8820  -5.29631  ...  POINT (-81.16694 25.14926) -81.166938  25.149262\n",
              "2    1   28.2685   5.36795  ...  POINT (-90.58674 29.24938) -90.586741  29.249380\n",
              "3    1   27.8134 -11.50460  ...  POINT (-76.05466 36.96940) -76.054661  36.969399\n",
              "4    1   16.0193  -4.73809  ...  POINT (-76.38891 39.27398) -76.388908  39.273977\n",
              "\n",
              "[5 rows x 12 columns]"
            ]
          },
          "metadata": {
            "tags": []
          },
          "execution_count": 10
        }
      ]
    },
    {
      "cell_type": "code",
      "metadata": {
        "colab": {
          "base_uri": "https://localhost:8080/"
        },
        "id": "GjC_m8ssf6f-",
        "outputId": "f1de91bd-e7b5-4745-98a6-ac6bc13ac279"
      },
      "source": [
        "coastline_attr_gpd.shape"
      ],
      "execution_count": 11,
      "outputs": [
        {
          "output_type": "execute_result",
          "data": {
            "text/plain": [
              "(10000, 12)"
            ]
          },
          "metadata": {
            "tags": []
          },
          "execution_count": 11
        }
      ]
    },
    {
      "cell_type": "code",
      "metadata": {
        "id": "WMLqyfm0fVf8"
      },
      "source": [
        "training_data=coastline_attr_gpd.sample(frac=0.8,random_state=42)\r\n",
        "test_data=coastline_attr_gpd.drop(training_data.index)"
      ],
      "execution_count": 12,
      "outputs": []
    },
    {
      "cell_type": "code",
      "metadata": {
        "id": "vgQ9MQ5Sf3mU"
      },
      "source": [
        "training_label=training_data.pop(\"nitrate\")\r\n",
        "test_label=test_data.pop(\"nitrate\")"
      ],
      "execution_count": 13,
      "outputs": []
    },
    {
      "cell_type": "code",
      "metadata": {
        "id": "kk8hfpcAf1Xe"
      },
      "source": [
        "training_data=training_data[[\"salinity\",\t\"srtm30\",\t\"silicate\",\t\"phosphate\",\t\"disso2\",\t\"temp\", \"x\",\t\"y\"]]"
      ],
      "execution_count": 14,
      "outputs": []
    },
    {
      "cell_type": "code",
      "metadata": {
        "id": "c-uGvGPlhuGD"
      },
      "source": [
        "test_data=test_data[[\"salinity\",\t\"srtm30\",\t\"silicate\",\t\"phosphate\",\t\"disso2\",\t\"temp\", \"x\",\t\"y\"]]"
      ],
      "execution_count": 15,
      "outputs": []
    },
    {
      "cell_type": "code",
      "metadata": {
        "colab": {
          "base_uri": "https://localhost:8080/"
        },
        "id": "nV4a464xh7AQ",
        "outputId": "76d241e7-3d3e-4a91-b9e8-f876887d1499"
      },
      "source": [
        "training_label.head()\r\n"
      ],
      "execution_count": 19,
      "outputs": [
        {
          "output_type": "execute_result",
          "data": {
            "text/plain": [
              "6252    9.058800\n",
              "4684    1.079670\n",
              "1731    0.844095\n",
              "4742    7.414680\n",
              "4521    5.384510\n",
              "Name: nitrate, dtype: float64"
            ]
          },
          "metadata": {
            "tags": []
          },
          "execution_count": 19
        }
      ]
    },
    {
      "cell_type": "code",
      "metadata": {
        "id": "1IO_BMEDiAiT"
      },
      "source": [
        "from sklearn.tree import DecisionTreeRegressor\r\n",
        "from sklearn.ensemble import RandomForestRegressor"
      ],
      "execution_count": 20,
      "outputs": []
    },
    {
      "cell_type": "code",
      "metadata": {
        "id": "7RH7ZUJwiUK1"
      },
      "source": [
        "tree_reg=DecisionTreeRegressor(min_samples_leaf=10, random_state=42)\r\n",
        "forest_reg=RandomForestRegressor(min_samples_leaf=10, random_state=42)"
      ],
      "execution_count": 21,
      "outputs": []
    },
    {
      "cell_type": "code",
      "metadata": {
        "colab": {
          "base_uri": "https://localhost:8080/"
        },
        "id": "zRzCS2ahkhWe",
        "outputId": "2fe72f0e-7a30-4197-9e6c-cb70716f6dec"
      },
      "source": [
        "tree_reg.fit(training_data,training_label)"
      ],
      "execution_count": 22,
      "outputs": [
        {
          "output_type": "execute_result",
          "data": {
            "text/plain": [
              "DecisionTreeRegressor(ccp_alpha=0.0, criterion='mse', max_depth=None,\n",
              "                      max_features=None, max_leaf_nodes=None,\n",
              "                      min_impurity_decrease=0.0, min_impurity_split=None,\n",
              "                      min_samples_leaf=10, min_samples_split=2,\n",
              "                      min_weight_fraction_leaf=0.0, presort='deprecated',\n",
              "                      random_state=42, splitter='best')"
            ]
          },
          "metadata": {
            "tags": []
          },
          "execution_count": 22
        }
      ]
    },
    {
      "cell_type": "code",
      "metadata": {
        "colab": {
          "base_uri": "https://localhost:8080/"
        },
        "id": "BJmmmwDEkrQK",
        "outputId": "0a4b8bdb-9128-43c9-eb18-769256fe89cd"
      },
      "source": [
        "forest_reg.fit(training_data,training_label)"
      ],
      "execution_count": 23,
      "outputs": [
        {
          "output_type": "execute_result",
          "data": {
            "text/plain": [
              "RandomForestRegressor(bootstrap=True, ccp_alpha=0.0, criterion='mse',\n",
              "                      max_depth=None, max_features='auto', max_leaf_nodes=None,\n",
              "                      max_samples=None, min_impurity_decrease=0.0,\n",
              "                      min_impurity_split=None, min_samples_leaf=10,\n",
              "                      min_samples_split=2, min_weight_fraction_leaf=0.0,\n",
              "                      n_estimators=100, n_jobs=None, oob_score=False,\n",
              "                      random_state=42, verbose=0, warm_start=False)"
            ]
          },
          "metadata": {
            "tags": []
          },
          "execution_count": 23
        }
      ]
    },
    {
      "cell_type": "code",
      "metadata": {
        "id": "C16U6ovak24p"
      },
      "source": [
        "y_pred_tree=tree_reg.predict(test_data)\r\n",
        "y_pred_forest=forest_reg.predict(test_data)"
      ],
      "execution_count": 25,
      "outputs": []
    },
    {
      "cell_type": "code",
      "metadata": {
        "colab": {
          "base_uri": "https://localhost:8080/"
        },
        "id": "5_Nk6AoElMHb",
        "outputId": "953f1577-0276-459f-c48b-80f61336799f"
      },
      "source": [
        "y_pred_tree[0]"
      ],
      "execution_count": 26,
      "outputs": [
        {
          "output_type": "execute_result",
          "data": {
            "text/plain": [
              "0.5906545000000001"
            ]
          },
          "metadata": {
            "tags": []
          },
          "execution_count": 26
        }
      ]
    },
    {
      "cell_type": "code",
      "metadata": {
        "colab": {
          "base_uri": "https://localhost:8080/"
        },
        "id": "1mU3nH7nlRWX",
        "outputId": "855cf6b9-68f3-4184-be63-fa99ba1c5f39"
      },
      "source": [
        "test_label_np=test_label.to_numpy()\r\n",
        "test_label_np[0]"
      ],
      "execution_count": 27,
      "outputs": [
        {
          "output_type": "execute_result",
          "data": {
            "text/plain": [
              "0.589654"
            ]
          },
          "metadata": {
            "tags": []
          },
          "execution_count": 27
        }
      ]
    },
    {
      "cell_type": "code",
      "metadata": {
        "id": "KpXom1QrlfbA"
      },
      "source": [
        "from sklearn.metrics import mean_squared_error"
      ],
      "execution_count": 29,
      "outputs": []
    },
    {
      "cell_type": "code",
      "metadata": {
        "id": "e59hnTtclrzT"
      },
      "source": [
        "rmse=mean_squared_error(test_label_np,y_pred_tree,squared=False)"
      ],
      "execution_count": 30,
      "outputs": []
    },
    {
      "cell_type": "code",
      "metadata": {
        "colab": {
          "base_uri": "https://localhost:8080/"
        },
        "id": "-aErozApl-Od",
        "outputId": "8fb97e8a-e35b-4364-c2e3-1c8263275fe9"
      },
      "source": [
        "rmse"
      ],
      "execution_count": 31,
      "outputs": [
        {
          "output_type": "execute_result",
          "data": {
            "text/plain": [
              "0.017314144357289965"
            ]
          },
          "metadata": {
            "tags": []
          },
          "execution_count": 31
        }
      ]
    },
    {
      "cell_type": "code",
      "metadata": {
        "colab": {
          "base_uri": "https://localhost:8080/"
        },
        "id": "9zGugWR1mBMf",
        "outputId": "6755d795-27d7-4535-e796-6b62988fa260"
      },
      "source": [
        "rmse=mean_squared_error(test_label_np,y_pred_forest,squared=False)\r\n",
        "rmse"
      ],
      "execution_count": 32,
      "outputs": [
        {
          "output_type": "execute_result",
          "data": {
            "text/plain": [
              "0.015396886585799813"
            ]
          },
          "metadata": {
            "tags": []
          },
          "execution_count": 32
        }
      ]
    }
  ]
}